{
 "cells": [
  {
   "cell_type": "code",
   "execution_count": 1,
   "metadata": {},
   "outputs": [],
   "source": [
    "import tensorflow as tf\n",
    "import numpy as np\n",
    "from keras.preprocessing.image import ImageDataGenerator\n",
    "from tensorflow.keras import Sequential,Model,initializers,layers,Input\n",
    "from tensorflow.keras.utils import plot_model\n",
    "from sklearn.model_selection import train_test_split\n",
    "import os\n",
    "os.environ[\"CUDA_DEVICE_ORDER\"]=\"PCI_BUS_ID\"  \n",
    "os.environ[\"CUDA_VISIBLE_DEVICES\"]=\"-1\"\n",
    "from tensorflow.keras.callbacks import ModelCheckpoint,EarlyStopping"
   ]
  },
  {
   "cell_type": "code",
   "execution_count": 2,
   "metadata": {},
   "outputs": [
    {
     "ename": "KeyboardInterrupt",
     "evalue": "",
     "output_type": "error",
     "traceback": [
      "\u001b[1;31m---------------------------------------------------------------------------\u001b[0m",
      "\u001b[1;31mKeyboardInterrupt\u001b[0m                         Traceback (most recent call last)",
      "Cell \u001b[1;32mIn[2], line 4\u001b[0m\n\u001b[0;32m      1\u001b[0m \u001b[39mimport\u001b[39;00m \u001b[39mtensorflow\u001b[39;00m \u001b[39mas\u001b[39;00m \u001b[39mtf\u001b[39;00m\n\u001b[0;32m      2\u001b[0m \u001b[39mimport\u001b[39;00m \u001b[39mnumpy\u001b[39;00m \u001b[39mas\u001b[39;00m \u001b[39mnp\u001b[39;00m\n\u001b[1;32m----> 4\u001b[0m (x_train,y_train),(x_test,y_test)\u001b[39m=\u001b[39mtf\u001b[39m.\u001b[39;49mkeras\u001b[39m.\u001b[39;49mdatasets\u001b[39m.\u001b[39;49mcifar10\u001b[39m.\u001b[39;49mload_data()\n\u001b[0;32m      6\u001b[0m \u001b[39m# Normalization\u001b[39;00m\n\u001b[0;32m      7\u001b[0m x_train\u001b[39m=\u001b[39mx_train\u001b[39m/\u001b[39m\u001b[39m255.\u001b[39m\n",
      "File \u001b[1;32mc:\\Users\\jin\\anaconda3\\envs\\Deep\\lib\\site-packages\\keras\\datasets\\cifar10.py:98\u001b[0m, in \u001b[0;36mload_data\u001b[1;34m()\u001b[0m\n\u001b[0;32m     93\u001b[0m \u001b[39mfor\u001b[39;00m i \u001b[39min\u001b[39;00m \u001b[39mrange\u001b[39m(\u001b[39m1\u001b[39m, \u001b[39m6\u001b[39m):\n\u001b[0;32m     94\u001b[0m     fpath \u001b[39m=\u001b[39m os\u001b[39m.\u001b[39mpath\u001b[39m.\u001b[39mjoin(path, \u001b[39m\"\u001b[39m\u001b[39mdata_batch_\u001b[39m\u001b[39m\"\u001b[39m \u001b[39m+\u001b[39m \u001b[39mstr\u001b[39m(i))\n\u001b[0;32m     95\u001b[0m     (\n\u001b[0;32m     96\u001b[0m         x_train[(i \u001b[39m-\u001b[39m \u001b[39m1\u001b[39m) \u001b[39m*\u001b[39m \u001b[39m10000\u001b[39m : i \u001b[39m*\u001b[39m \u001b[39m10000\u001b[39m, :, :, :],\n\u001b[0;32m     97\u001b[0m         y_train[(i \u001b[39m-\u001b[39m \u001b[39m1\u001b[39m) \u001b[39m*\u001b[39m \u001b[39m10000\u001b[39m : i \u001b[39m*\u001b[39m \u001b[39m10000\u001b[39m],\n\u001b[1;32m---> 98\u001b[0m     ) \u001b[39m=\u001b[39m load_batch(fpath)\n\u001b[0;32m    100\u001b[0m fpath \u001b[39m=\u001b[39m os\u001b[39m.\u001b[39mpath\u001b[39m.\u001b[39mjoin(path, \u001b[39m\"\u001b[39m\u001b[39mtest_batch\u001b[39m\u001b[39m\"\u001b[39m)\n\u001b[0;32m    101\u001b[0m x_test, y_test \u001b[39m=\u001b[39m load_batch(fpath)\n",
      "File \u001b[1;32mc:\\Users\\jin\\anaconda3\\envs\\Deep\\lib\\site-packages\\keras\\datasets\\cifar.py:32\u001b[0m, in \u001b[0;36mload_batch\u001b[1;34m(fpath, label_key)\u001b[0m\n\u001b[0;32m     21\u001b[0m \u001b[39m\"\"\"Internal utility for parsing CIFAR data.\u001b[39;00m\n\u001b[0;32m     22\u001b[0m \n\u001b[0;32m     23\u001b[0m \u001b[39mArgs:\u001b[39;00m\n\u001b[1;32m   (...)\u001b[0m\n\u001b[0;32m     29\u001b[0m \u001b[39m    A tuple `(data, labels)`.\u001b[39;00m\n\u001b[0;32m     30\u001b[0m \u001b[39m\"\"\"\u001b[39;00m\n\u001b[0;32m     31\u001b[0m \u001b[39mwith\u001b[39;00m \u001b[39mopen\u001b[39m(fpath, \u001b[39m\"\u001b[39m\u001b[39mrb\u001b[39m\u001b[39m\"\u001b[39m) \u001b[39mas\u001b[39;00m f:\n\u001b[1;32m---> 32\u001b[0m     d \u001b[39m=\u001b[39m cPickle\u001b[39m.\u001b[39;49mload(f, encoding\u001b[39m=\u001b[39;49m\u001b[39m\"\u001b[39;49m\u001b[39mbytes\u001b[39;49m\u001b[39m\"\u001b[39;49m)\n\u001b[0;32m     33\u001b[0m     \u001b[39m# decode utf8\u001b[39;00m\n\u001b[0;32m     34\u001b[0m     d_decoded \u001b[39m=\u001b[39m {}\n",
      "\u001b[1;31mKeyboardInterrupt\u001b[0m: "
     ]
    }
   ],
   "source": [
    "import tensorflow as tf\n",
    "import numpy as np\n",
    "\n",
    "(x_train,y_train),(x_test,y_test)=tf.keras.datasets.cifar10.load_data()\n",
    "\n",
    "# Normalization\n",
    "x_train=x_train/255.\n",
    "\n",
    "x_test=x_test/255.\n",
    "\n",
    "x_train.shape\n",
    "\n",
    "x_train = tf.image.resize(x_train, [224,224]) \n",
    "\n",
    "x_test = tf.image.resize(x_test, [224,224]) \n",
    "\n",
    "y_train = tf.keras.utils.to_categorical(np.array(y_train))\n",
    "y_test = tf.keras.utils.to_categorical(np.array(y_test))"
   ]
  },
  {
   "cell_type": "code",
   "execution_count": 3,
   "metadata": {},
   "outputs": [
    {
     "name": "stdout",
     "output_type": "stream",
     "text": [
      "Found 1257 files belonging to 10 classes.\n",
      "Using 1132 files for training.\n",
      "Found 1257 files belonging to 10 classes.\n",
      "Using 125 files for validation.\n"
     ]
    }
   ],
   "source": [
    "dir=r'D:\\dataset\\butterfly\\train'\n",
    "train_ds=tf.keras.preprocessing.image_dataset_from_directory(\n",
    "dir,\n",
    "labels=\"inferred\",\n",
    "label_mode=\"int\",\n",
    "class_names=None,\n",
    "color_mode=\"rgb\",\n",
    "batch_size=4,\n",
    "image_size=(224, 224),\n",
    "shuffle=True,\n",
    "seed=10,\n",
    "validation_split=0.1,\n",
    "subset='training',\n",
    "interpolation=\"gaussian\",\n",
    "follow_links=False,\n",
    "crop_to_aspect_ratio=False,)\n",
    "\n",
    "validation_ds=tf.keras.preprocessing.image_dataset_from_directory(\n",
    "dir,\n",
    "validation_split=0.1,\n",
    "subset='validation',\n",
    "shuffle=True,\n",
    "seed=10,\n",
    "image_size=(224,224),\n",
    "batch_size=4)\n",
    "\n",
    "normalization_layer = tf.keras.layers.experimental.preprocessing.Rescaling(1./255.)\n",
    "\n",
    "normalized_ds = train_ds.map(lambda x, y: (normalization_layer(x), y))\n",
    "image_batch, labels_batch = next(iter(normalized_ds))\n",
    "first_image = image_batch[0]"
   ]
  },
  {
   "cell_type": "code",
   "execution_count": 9,
   "metadata": {},
   "outputs": [
    {
     "name": "stdout",
     "output_type": "stream",
     "text": [
      "Found 1257 files belonging to 10 classes.\n",
      "Using 1132 files for training.\n",
      "Found 1257 files belonging to 10 classes.\n",
      "Using 125 files for validation.\n"
     ]
    }
   ],
   "source": [
    "dir=r'D:\\dataset\\butterfly\\train'\n",
    "train_ds=tf.keras.preprocessing.image_dataset_from_directory(\n",
    "dir,\n",
    "labels=\"inferred\",\n",
    "label_mode=\"int\",\n",
    "class_names=None,\n",
    "color_mode=\"rgb\",\n",
    "batch_size=4,\n",
    "image_size=(224, 224),\n",
    "shuffle=True,\n",
    "seed=10,\n",
    "validation_split=0.1,\n",
    "subset='training',\n",
    "interpolation=\"gaussian\",\n",
    "follow_links=False,\n",
    "crop_to_aspect_ratio=False,)\n",
    "\n",
    "validation_ds=tf.keras.preprocessing.image_dataset_from_directory(\n",
    "dir,\n",
    "validation_split=0.1,\n",
    "subset='validation',\n",
    "shuffle=True,\n",
    "seed=10,\n",
    "image_size=(224, 224),\n",
    "batch_size=4)\n",
    "\n",
    "normalization_layer = tf.keras.layers.experimental.preprocessing.Rescaling(1./255.)\n",
    "\n",
    "normalized_ds = train_ds.map(lambda x, y: (normalization_layer(x), y))\n",
    "image_batch, labels_batch = next(iter(normalized_ds))\n",
    "first_image = image_batch[0]"
   ]
  },
  {
   "cell_type": "code",
   "execution_count": 4,
   "metadata": {},
   "outputs": [],
   "source": [
    "with tf.device(\"/device:CPU:0\"):\n",
    "    model=Sequential([\n",
    "        layers.Conv2D(input_shape=(224,224,3),filters=64,kernel_size=(3,3),strides=(1,1),padding='same'),\n",
    "        layers.BatchNormalization(),\n",
    "        layers.ReLU(),\n",
    "        layers.Conv2D(kernel_size=(3,3),filters=64,strides=(1,1),padding='same'),\n",
    "        layers.BatchNormalization(),\n",
    "        layers.ReLU(),\n",
    "        layers.MaxPooling2D(pool_size=(2,2),strides=(2,2)),\n",
    "\n",
    "        layers.Conv2D(filters=128,kernel_size=(3,3),strides=(1,1),padding='same'),\n",
    "        layers.BatchNormalization(),\n",
    "        layers.ReLU(),\n",
    "        layers.Conv2D(filters=128,kernel_size=(3,3),strides=(1,1),padding='same'),\n",
    "        layers.BatchNormalization(),\n",
    "        layers.ReLU(),\n",
    "        layers.Conv2D(filters=128,kernel_size=(3,3),strides=(1,1),padding='same'),\n",
    "        layers.BatchNormalization(),\n",
    "        layers.ReLU(),\n",
    "        layers.MaxPooling2D(pool_size=(2,2),strides=(2,2)),\n",
    "    \n",
    "        layers.Conv2D(filters=256,kernel_size=(3,3),strides=(1,1),padding='same'),\n",
    "        layers.BatchNormalization(),\n",
    "        layers.ReLU(),\n",
    "        layers.Conv2D(filters=256,kernel_size=(3,3),strides=(1,1),padding='same'),\n",
    "        layers.BatchNormalization(),\n",
    "        layers.ReLU(),\n",
    "        layers.Conv2D(filters=256,kernel_size=(3,3),strides=(1,1),padding='same'),\n",
    "        layers.BatchNormalization(),\n",
    "        layers.ReLU(),\n",
    "        layers.MaxPooling2D(pool_size=(2,2),strides=(2,2)),\n",
    "\n",
    "        layers.Flatten(),\n",
    "        layers.Dense(units=4096),\n",
    "        layers.BatchNormalization(),\n",
    "        layers.ReLU(),\n",
    "        layers.Dense(units=4096),\n",
    "        layers.BatchNormalization(),\n",
    "        layers.ReLU(),\n",
    "        layers.Dense(units=10,activation='softmax')\n",
    "    ])"
   ]
  },
  {
   "cell_type": "code",
   "execution_count": null,
   "metadata": {},
   "outputs": [],
   "source": [
    "plot_model(model,to_file='VGGnet_16.png',show_shapes=True)"
   ]
  },
  {
   "cell_type": "code",
   "execution_count": 10,
   "metadata": {},
   "outputs": [
    {
     "name": "stdout",
     "output_type": "stream",
     "text": [
      "Model: \"sequential_1\"\n",
      "_________________________________________________________________\n",
      " Layer (type)                Output Shape              Param #   \n",
      "=================================================================\n",
      " conv2d_18 (Conv2D)          (None, 224, 224, 64)      1792      \n",
      "                                                                 \n",
      " batch_normalization_18 (Bat  (None, 224, 224, 64)     256       \n",
      " chNormalization)                                                \n",
      "                                                                 \n",
      " re_lu_18 (ReLU)             (None, 224, 224, 64)      0         \n",
      "                                                                 \n",
      " conv2d_19 (Conv2D)          (None, 224, 224, 64)      36928     \n",
      "                                                                 \n",
      " batch_normalization_19 (Bat  (None, 224, 224, 64)     256       \n",
      " chNormalization)                                                \n",
      "                                                                 \n",
      " re_lu_19 (ReLU)             (None, 224, 224, 64)      0         \n",
      "                                                                 \n",
      " max_pooling2d_7 (MaxPooling  (None, 112, 112, 64)     0         \n",
      " 2D)                                                             \n",
      "                                                                 \n",
      " conv2d_20 (Conv2D)          (None, 112, 112, 128)     73856     \n",
      "                                                                 \n",
      " batch_normalization_20 (Bat  (None, 112, 112, 128)    512       \n",
      " chNormalization)                                                \n",
      "                                                                 \n",
      " re_lu_20 (ReLU)             (None, 112, 112, 128)     0         \n",
      "                                                                 \n",
      " conv2d_21 (Conv2D)          (None, 112, 112, 128)     147584    \n",
      "                                                                 \n",
      " batch_normalization_21 (Bat  (None, 112, 112, 128)    512       \n",
      " chNormalization)                                                \n",
      "                                                                 \n",
      " re_lu_21 (ReLU)             (None, 112, 112, 128)     0         \n",
      "                                                                 \n",
      " conv2d_22 (Conv2D)          (None, 112, 112, 128)     147584    \n",
      "                                                                 \n",
      " batch_normalization_22 (Bat  (None, 112, 112, 128)    512       \n",
      " chNormalization)                                                \n",
      "                                                                 \n",
      " re_lu_22 (ReLU)             (None, 112, 112, 128)     0         \n",
      "                                                                 \n",
      " max_pooling2d_8 (MaxPooling  (None, 56, 56, 128)      0         \n",
      " 2D)                                                             \n",
      "                                                                 \n",
      " conv2d_23 (Conv2D)          (None, 56, 56, 256)       295168    \n",
      "                                                                 \n",
      " batch_normalization_23 (Bat  (None, 56, 56, 256)      1024      \n",
      " chNormalization)                                                \n",
      "                                                                 \n",
      " re_lu_23 (ReLU)             (None, 56, 56, 256)       0         \n",
      "                                                                 \n",
      " conv2d_24 (Conv2D)          (None, 56, 56, 256)       590080    \n",
      "                                                                 \n",
      " batch_normalization_24 (Bat  (None, 56, 56, 256)      1024      \n",
      " chNormalization)                                                \n",
      "                                                                 \n",
      " re_lu_24 (ReLU)             (None, 56, 56, 256)       0         \n",
      "                                                                 \n",
      " conv2d_25 (Conv2D)          (None, 56, 56, 256)       590080    \n",
      "                                                                 \n",
      " batch_normalization_25 (Bat  (None, 56, 56, 256)      1024      \n",
      " chNormalization)                                                \n",
      "                                                                 \n",
      " re_lu_25 (ReLU)             (None, 56, 56, 256)       0         \n",
      "                                                                 \n",
      " max_pooling2d_9 (MaxPooling  (None, 28, 28, 256)      0         \n",
      " 2D)                                                             \n",
      "                                                                 \n",
      " flatten_2 (Flatten)         (None, 200704)            0         \n",
      "                                                                 \n",
      " dense_3 (Dense)             (None, 4096)              822087680 \n",
      "                                                                 \n",
      " dense_4 (Dense)             (None, 4096)              16781312  \n",
      "                                                                 \n",
      " dense_5 (Dense)             (None, 10)                40970     \n",
      "                                                                 \n",
      "=================================================================\n",
      "Total params: 840,798,154\n",
      "Trainable params: 840,795,594\n",
      "Non-trainable params: 2,560\n",
      "_________________________________________________________________\n"
     ]
    }
   ],
   "source": [
    "model.summary()"
   ]
  },
  {
   "cell_type": "code",
   "execution_count": 12,
   "metadata": {},
   "outputs": [
    {
     "data": {
      "text/plain": [
       "31"
      ]
     },
     "execution_count": 12,
     "metadata": {},
     "output_type": "execute_result"
    }
   ],
   "source": [
    "len(model.layers)"
   ]
  },
  {
   "cell_type": "code",
   "execution_count": 5,
   "metadata": {},
   "outputs": [],
   "source": [
    "model_checkpoint_best_path=r'D:\\GitHub_repo\\CNN-Model-Application\\save_weights\\VGG16/'\n",
    "model_checkpoint_best=ModelCheckpoint(filepath=model_checkpoint_best_path,monitor='val_acc',save_best_only=True,save_weights_only=True,save_freq='epoch')\n",
    "early_stopping=EarlyStopping(monitor='val_acc',patience=30,min_delta=1e-4)\n",
    "\n",
    "\n",
    "lr_rate=tf.keras.optimizers.schedules.ExponentialDecay(1e-3, 10000, 0.97, staircase=False, name=None)\n",
    "\n",
    "    \n",
    "model.compile(optimizer=tf.keras.optimizers.Adam(learning_rate=lr_rate),loss='sparse_categorical_crossentropy',metrics=['acc'])\n"
   ]
  },
  {
   "cell_type": "code",
   "execution_count": 6,
   "metadata": {},
   "outputs": [
    {
     "name": "stdout",
     "output_type": "stream",
     "text": [
      "Epoch 1/50\n",
      "283/283 [==============================] - 1105s 4s/step - loss: 3.6718 - acc: 0.2765 - val_loss: 4.8010 - val_acc: 0.4000\n",
      "Epoch 2/50\n",
      "283/283 [==============================] - 1169s 4s/step - loss: 2.6167 - acc: 0.4011 - val_loss: 16.5524 - val_acc: 0.3360\n",
      "Epoch 3/50\n",
      "283/283 [==============================] - 1107s 4s/step - loss: 2.2312 - acc: 0.4479 - val_loss: 5.2902 - val_acc: 0.5360\n",
      "Epoch 4/50\n",
      "283/283 [==============================] - 1104s 4s/step - loss: 1.9883 - acc: 0.5124 - val_loss: 1.0125 - val_acc: 0.7680\n",
      "Epoch 5/50\n",
      "283/283 [==============================] - 1144s 4s/step - loss: 1.5687 - acc: 0.5716 - val_loss: 2.6629 - val_acc: 0.6880\n",
      "Epoch 6/50\n",
      "283/283 [==============================] - 1097s 4s/step - loss: 1.5937 - acc: 0.5857 - val_loss: 0.6514 - val_acc: 0.8080\n",
      "Epoch 7/50\n",
      "283/283 [==============================] - 1083s 4s/step - loss: 1.5118 - acc: 0.6131 - val_loss: 0.8528 - val_acc: 0.7600\n",
      "Epoch 8/50\n",
      "283/283 [==============================] - 1080s 4s/step - loss: 1.2674 - acc: 0.6634 - val_loss: 3.6831 - val_acc: 0.5280\n",
      "Epoch 9/50\n",
      "283/283 [==============================] - 1082s 4s/step - loss: 1.0609 - acc: 0.7094 - val_loss: 1.4511 - val_acc: 0.7520\n",
      "Epoch 10/50\n",
      "283/283 [==============================] - 1084s 4s/step - loss: 0.9628 - acc: 0.7235 - val_loss: 2.7852 - val_acc: 0.6560\n",
      "Epoch 11/50\n",
      "283/283 [==============================] - 1082s 4s/step - loss: 0.7751 - acc: 0.7959 - val_loss: 2.4536 - val_acc: 0.6160\n",
      "Epoch 12/50\n",
      "283/283 [==============================] - 1082s 4s/step - loss: 0.7943 - acc: 0.7783 - val_loss: 2.0945 - val_acc: 0.7200\n",
      "Epoch 13/50\n",
      "283/283 [==============================] - 1081s 4s/step - loss: 0.6957 - acc: 0.8012 - val_loss: 1.4881 - val_acc: 0.7200\n",
      "Epoch 14/50\n",
      "283/283 [==============================] - 1080s 4s/step - loss: 0.6289 - acc: 0.8216 - val_loss: 1.2540 - val_acc: 0.7520\n",
      "Epoch 15/50\n",
      "283/283 [==============================] - 1083s 4s/step - loss: 0.5623 - acc: 0.8383 - val_loss: 3.1975 - val_acc: 0.5680\n",
      "Epoch 16/50\n",
      "283/283 [==============================] - 1080s 4s/step - loss: 0.5299 - acc: 0.8419 - val_loss: 1.5705 - val_acc: 0.7280\n",
      "Epoch 17/50\n",
      "283/283 [==============================] - 1080s 4s/step - loss: 0.5150 - acc: 0.8551 - val_loss: 1.4480 - val_acc: 0.6640\n",
      "Epoch 18/50\n",
      "283/283 [==============================] - 1082s 4s/step - loss: 0.3529 - acc: 0.8984 - val_loss: 1.6168 - val_acc: 0.7680\n",
      "Epoch 19/50\n",
      "283/283 [==============================] - 1080s 4s/step - loss: 0.4555 - acc: 0.8684 - val_loss: 1.7725 - val_acc: 0.8000\n",
      "Epoch 20/50\n",
      "283/283 [==============================] - 1083s 4s/step - loss: 0.4239 - acc: 0.8860 - val_loss: 0.8647 - val_acc: 0.8000\n",
      "Epoch 21/50\n",
      "283/283 [==============================] - 1082s 4s/step - loss: 0.4546 - acc: 0.8640 - val_loss: 0.8621 - val_acc: 0.7600\n",
      "Epoch 22/50\n",
      "283/283 [==============================] - 1081s 4s/step - loss: 0.3161 - acc: 0.9090 - val_loss: 0.9043 - val_acc: 0.8240\n",
      "Epoch 23/50\n",
      "283/283 [==============================] - 1080s 4s/step - loss: 0.2912 - acc: 0.9152 - val_loss: 1.5605 - val_acc: 0.7760\n",
      "Epoch 24/50\n",
      "283/283 [==============================] - 1081s 4s/step - loss: 0.2620 - acc: 0.9258 - val_loss: 1.3486 - val_acc: 0.7680\n",
      "Epoch 25/50\n",
      "283/283 [==============================] - 1080s 4s/step - loss: 0.3084 - acc: 0.9152 - val_loss: 1.9246 - val_acc: 0.7120\n",
      "Epoch 26/50\n",
      "283/283 [==============================] - 1079s 4s/step - loss: 0.3521 - acc: 0.9072 - val_loss: 2.1452 - val_acc: 0.6720\n",
      "Epoch 27/50\n",
      "283/283 [==============================] - 1083s 4s/step - loss: 0.3162 - acc: 0.9161 - val_loss: 1.2258 - val_acc: 0.7840\n",
      "Epoch 28/50\n",
      "283/283 [==============================] - 1083s 4s/step - loss: 0.2758 - acc: 0.9311 - val_loss: 2.3925 - val_acc: 0.7360\n",
      "Epoch 29/50\n",
      "283/283 [==============================] - 1083s 4s/step - loss: 0.3492 - acc: 0.9117 - val_loss: 2.0563 - val_acc: 0.7440\n",
      "Epoch 30/50\n",
      "283/283 [==============================] - 1081s 4s/step - loss: 0.2744 - acc: 0.9329 - val_loss: 0.6712 - val_acc: 0.7760\n",
      "Epoch 31/50\n",
      "283/283 [==============================] - 1081s 4s/step - loss: 0.3032 - acc: 0.9178 - val_loss: 1.2597 - val_acc: 0.7360\n",
      "Epoch 32/50\n",
      "283/283 [==============================] - 1082s 4s/step - loss: 0.2322 - acc: 0.9435 - val_loss: 1.8706 - val_acc: 0.7040\n",
      "Epoch 33/50\n",
      "283/283 [==============================] - 1083s 4s/step - loss: 0.1557 - acc: 0.9505 - val_loss: 0.8308 - val_acc: 0.8000\n",
      "Epoch 34/50\n",
      "283/283 [==============================] - 1080s 4s/step - loss: 0.2757 - acc: 0.9337 - val_loss: 1.2284 - val_acc: 0.7920\n",
      "Epoch 35/50\n",
      "283/283 [==============================] - 1081s 4s/step - loss: 0.3023 - acc: 0.9249 - val_loss: 0.9402 - val_acc: 0.8080\n",
      "Epoch 36/50\n",
      "283/283 [==============================] - 1080s 4s/step - loss: 0.1753 - acc: 0.9523 - val_loss: 0.8882 - val_acc: 0.8000\n",
      "Epoch 37/50\n",
      "283/283 [==============================] - 1083s 4s/step - loss: 0.1663 - acc: 0.9585 - val_loss: 1.8929 - val_acc: 0.7040\n",
      "Epoch 38/50\n",
      "283/283 [==============================] - 1081s 4s/step - loss: 0.2037 - acc: 0.9452 - val_loss: 1.8859 - val_acc: 0.7120\n",
      "Epoch 39/50\n",
      "283/283 [==============================] - 1082s 4s/step - loss: 0.1872 - acc: 0.9479 - val_loss: 1.0004 - val_acc: 0.7440\n",
      "Epoch 40/50\n",
      "283/283 [==============================] - 1079s 4s/step - loss: 0.1378 - acc: 0.9523 - val_loss: 0.9561 - val_acc: 0.7840\n",
      "Epoch 41/50\n",
      "283/283 [==============================] - 1083s 4s/step - loss: 0.1490 - acc: 0.9585 - val_loss: 0.7732 - val_acc: 0.8000\n",
      "Epoch 42/50\n",
      "283/283 [==============================] - 1083s 4s/step - loss: 0.1441 - acc: 0.9673 - val_loss: 1.1763 - val_acc: 0.7440\n",
      "Epoch 43/50\n",
      "283/283 [==============================] - 1083s 4s/step - loss: 0.1238 - acc: 0.9664 - val_loss: 1.2117 - val_acc: 0.7600\n",
      "Epoch 44/50\n",
      "283/283 [==============================] - 1083s 4s/step - loss: 0.1907 - acc: 0.9382 - val_loss: 2.2542 - val_acc: 0.6960\n",
      "Epoch 45/50\n",
      "283/283 [==============================] - 1086s 4s/step - loss: 0.1359 - acc: 0.9576 - val_loss: 1.4302 - val_acc: 0.7120\n",
      "Epoch 46/50\n",
      "283/283 [==============================] - 1121s 4s/step - loss: 0.1365 - acc: 0.9602 - val_loss: 1.4207 - val_acc: 0.7840\n",
      "Epoch 47/50\n",
      "283/283 [==============================] - 1156s 4s/step - loss: 0.1303 - acc: 0.9629 - val_loss: 1.7796 - val_acc: 0.7600\n",
      "Epoch 48/50\n",
      "283/283 [==============================] - 1210s 4s/step - loss: 0.1087 - acc: 0.9629 - val_loss: 0.9646 - val_acc: 0.7920\n",
      "Epoch 49/50\n",
      "283/283 [==============================] - 1208s 4s/step - loss: 0.1441 - acc: 0.9708 - val_loss: 0.7228 - val_acc: 0.8160\n",
      "Epoch 50/50\n",
      "283/283 [==============================] - 1209s 4s/step - loss: 0.1433 - acc: 0.9691 - val_loss: 0.9243 - val_acc: 0.7680\n"
     ]
    }
   ],
   "source": [
    "with tf.device(\"/device:CPU:0\"):\n",
    "    history=model.fit(train_ds,validation_data=validation_ds,epochs=50,batch_size=4,verbose=1)"
   ]
  },
  {
   "cell_type": "code",
   "execution_count": 7,
   "metadata": {},
   "outputs": [
    {
     "ename": "NotFoundError",
     "evalue": "Unsuccessful TensorSliceReader constructor: Failed to find any matching files for D:\\GitHub_repo\\CNN-Model-Application\\save_weights\\VGG16/",
     "output_type": "error",
     "traceback": [
      "\u001b[1;31m---------------------------------------------------------------------------\u001b[0m",
      "\u001b[1;31mNotFoundError\u001b[0m                             Traceback (most recent call last)",
      "Cell \u001b[1;32mIn[7], line 1\u001b[0m\n\u001b[1;32m----> 1\u001b[0m model\u001b[39m.\u001b[39;49mload_weights(model_checkpoint_best_path)\n\u001b[0;32m      2\u001b[0m test_loss,test_acc\u001b[39m=\u001b[39mmodel\u001b[39m.\u001b[39mevaluate(x\u001b[39m=\u001b[39mx_test,y\u001b[39m=\u001b[39my_test,verbose\u001b[39m=\u001b[39m\u001b[39m1\u001b[39m)\n",
      "File \u001b[1;32mc:\\Users\\jin\\anaconda3\\envs\\Deep\\lib\\site-packages\\keras\\utils\\traceback_utils.py:70\u001b[0m, in \u001b[0;36mfilter_traceback.<locals>.error_handler\u001b[1;34m(*args, **kwargs)\u001b[0m\n\u001b[0;32m     67\u001b[0m     filtered_tb \u001b[39m=\u001b[39m _process_traceback_frames(e\u001b[39m.\u001b[39m__traceback__)\n\u001b[0;32m     68\u001b[0m     \u001b[39m# To get the full stack trace, call:\u001b[39;00m\n\u001b[0;32m     69\u001b[0m     \u001b[39m# `tf.debugging.disable_traceback_filtering()`\u001b[39;00m\n\u001b[1;32m---> 70\u001b[0m     \u001b[39mraise\u001b[39;00m e\u001b[39m.\u001b[39mwith_traceback(filtered_tb) \u001b[39mfrom\u001b[39;00m \u001b[39mNone\u001b[39m\n\u001b[0;32m     71\u001b[0m \u001b[39mfinally\u001b[39;00m:\n\u001b[0;32m     72\u001b[0m     \u001b[39mdel\u001b[39;00m filtered_tb\n",
      "File \u001b[1;32mc:\\Users\\jin\\anaconda3\\envs\\Deep\\lib\\site-packages\\tensorflow\\python\\training\\py_checkpoint_reader.py:31\u001b[0m, in \u001b[0;36merror_translator\u001b[1;34m(e)\u001b[0m\n\u001b[0;32m     27\u001b[0m error_message \u001b[39m=\u001b[39m \u001b[39mstr\u001b[39m(e)\n\u001b[0;32m     28\u001b[0m \u001b[39mif\u001b[39;00m \u001b[39m'\u001b[39m\u001b[39mnot found in checkpoint\u001b[39m\u001b[39m'\u001b[39m \u001b[39min\u001b[39;00m error_message \u001b[39mor\u001b[39;00m (\n\u001b[0;32m     29\u001b[0m     \u001b[39m'\u001b[39m\u001b[39mFailed to find any \u001b[39m\u001b[39m'\u001b[39m\n\u001b[0;32m     30\u001b[0m     \u001b[39m'\u001b[39m\u001b[39mmatching files for\u001b[39m\u001b[39m'\u001b[39m) \u001b[39min\u001b[39;00m error_message:\n\u001b[1;32m---> 31\u001b[0m   \u001b[39mraise\u001b[39;00m errors_impl\u001b[39m.\u001b[39mNotFoundError(\u001b[39mNone\u001b[39;00m, \u001b[39mNone\u001b[39;00m, error_message)\n\u001b[0;32m     32\u001b[0m \u001b[39melif\u001b[39;00m \u001b[39m'\u001b[39m\u001b[39mSliced checkpoints are not supported\u001b[39m\u001b[39m'\u001b[39m \u001b[39min\u001b[39;00m error_message \u001b[39mor\u001b[39;00m (\n\u001b[0;32m     33\u001b[0m     \u001b[39m'\u001b[39m\u001b[39mData type \u001b[39m\u001b[39m'\u001b[39m\n\u001b[0;32m     34\u001b[0m     \u001b[39m'\u001b[39m\u001b[39mnot \u001b[39m\u001b[39m'\u001b[39m\n\u001b[0;32m     35\u001b[0m     \u001b[39m'\u001b[39m\u001b[39msupported\u001b[39m\u001b[39m'\u001b[39m) \u001b[39min\u001b[39;00m error_message:\n\u001b[0;32m     36\u001b[0m   \u001b[39mraise\u001b[39;00m errors_impl\u001b[39m.\u001b[39mUnimplementedError(\u001b[39mNone\u001b[39;00m, \u001b[39mNone\u001b[39;00m, error_message)\n",
      "\u001b[1;31mNotFoundError\u001b[0m: Unsuccessful TensorSliceReader constructor: Failed to find any matching files for D:\\GitHub_repo\\CNN-Model-Application\\save_weights\\VGG16/"
     ]
    }
   ],
   "source": [
    "model.load_weights(model_checkpoint_best_path)\n",
    "test_loss,test_acc=model.evaluate(x=x_test,y=y_test,verbose=1)"
   ]
  },
  {
   "cell_type": "code",
   "execution_count": 8,
   "metadata": {},
   "outputs": [
    {
     "data": {
      "image/png": "[encoded data removed]",
      "text/plain": [
       "<Figure size 1000x500 with 2 Axes>"
      ]
     },
     "metadata": {},
     "output_type": "display_data"
    }
   ],
   "source": [
    "import matplotlib.pyplot as plt\n",
    "plt.figure(figsize=(10,5))\n",
    "\n",
    "plt.subplot(1,2,1)\n",
    "plt.plot(history.history['acc'])\n",
    "plt.plot(history.history['val_acc'])\n",
    "plt.ylabel('acc')\n",
    "plt.xlabel('epochs')\n",
    "plt.legend(['training','validation'],loc='upper left')\n",
    "\n",
    "plt.subplot(1,2,2)\n",
    "plt.plot(history.history['loss'])\n",
    "plt.plot(history.history['val_loss'])\n",
    "plt.ylabel('loss')\n",
    "plt.xlabel('epochs')\n",
    "plt.legend(['training','validation'],loc='upper left')\n",
    "\n",
    "plt.show()"
   ]
  }
 ],
 "metadata": {
  "kernelspec": {
   "display_name": "Deep",
   "language": "python",
   "name": "python3"
  },
  "language_info": {
   "codemirror_mode": {
    "name": "ipython",
    "version": 3
   },
   "file_extension": ".py",
   "mimetype": "text/x-python",
   "name": "python",
   "nbconvert_exporter": "python",
   "pygments_lexer": "ipython3",
   "version": "3.9.13 (main, Oct 13 2022, 21:23:06) [MSC v.1916 64 bit (AMD64)]"
  },
  "orig_nbformat": 4,
  "vscode": {
   "interpreter": {
    "hash": "f63f62229035d384e646c189fd217ceea058ae56feeee8d9eb8b5a7f24aaefef"
   }
  }
 },
 "nbformat": 4,
 "nbformat_minor": 2
}
